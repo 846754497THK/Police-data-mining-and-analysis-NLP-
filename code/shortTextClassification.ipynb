{
 "cells": [
  {
   "cell_type": "code",
   "execution_count": 1,
   "metadata": {
    "collapsed": true
   },
   "outputs": [],
   "source": [
    "folder_path = './data/'\n",
    "import os"
   ]
  },
  {
   "cell_type": "code",
   "execution_count": 2,
   "metadata": {},
   "outputs": [
    {
     "data": {
      "text/plain": [
       "['beierzida.csv',\n",
       " 'beilaogongda.csv',\n",
       " 'beilaopoda.csv',\n",
       " 'beinverda.csv',\n",
       " 'stopwords.txt']"
      ]
     },
     "execution_count": 2,
     "metadata": {},
     "output_type": "execute_result"
    }
   ],
   "source": [
    "os.listdir(folder_path)"
   ]
  },
  {
   "cell_type": "code",
   "execution_count": 3,
   "metadata": {},
   "outputs": [
    {
     "data": {
      "text/plain": [
       "['beierzida.csv', 'beilaogongda.csv', 'beilaopoda.csv', 'beinverda.csv']"
      ]
     },
     "execution_count": 3,
     "metadata": {},
     "output_type": "execute_result"
    }
   ],
   "source": [
    "fileName_list = os.listdir(folder_path)[:-1]\n",
    "fileName_list"
   ]
  },
  {
   "cell_type": "code",
   "execution_count": 4,
   "metadata": {},
   "outputs": [
    {
     "data": {
      "text/plain": [
       "['beierzida', 'beilaogongda', 'beilaopoda', 'beinverda']"
      ]
     },
     "execution_count": 4,
     "metadata": {},
     "output_type": "execute_result"
    }
   ],
   "source": [
    "labelType_list = [k.strip('.csv') for k in fileName_list]\n",
    "labelType_list"
   ]
  },
  {
   "cell_type": "code",
   "execution_count": 5,
   "metadata": {
    "collapsed": true
   },
   "outputs": [],
   "source": [
    "content_list = []\n",
    "label_list = []\n",
    "fileName = os.path.join(folder_path, fileName_list[0])\n",
    "\n",
    "with open(fileName, encoding='utf8') as file:\n",
    "    line_list = [k.strip() for k in file.readlines()][:-1]\n",
    "    for line in line_list:\n",
    "        content_list.append(line.split(',', maxsplit=1)[1])\n",
    "        label_list.append(fileName.strip('.csv').strip('/data'))"
   ]
  },
  {
   "cell_type": "code",
   "execution_count": 6,
   "metadata": {},
   "outputs": [
    {
     "data": {
      "text/plain": [
       "['segment',\n",
       " '报警人被儿子打，无人伤，请民警到场处理。',\n",
       " '报警人称被儿子打 请民警到场处理。（内线：22649)',\n",
       " '报警人被儿子打 无人伤，无持械， 请民警携带必要防护装备并注意自身安全。',\n",
       " '报警人被儿子打，请民警到场处理']"
      ]
     },
     "execution_count": 6,
     "metadata": {},
     "output_type": "execute_result"
    }
   ],
   "source": [
    "content_list[:5]"
   ]
  },
  {
   "cell_type": "code",
   "execution_count": 7,
   "metadata": {},
   "outputs": [
    {
     "data": {
      "text/plain": [
       "['beierzi', 'beierzi', 'beierzi', 'beierzi', 'beierzi']"
      ]
     },
     "execution_count": 7,
     "metadata": {},
     "output_type": "execute_result"
    }
   ],
   "source": [
    "label_list[:5]"
   ]
  },
  {
   "cell_type": "code",
   "execution_count": 8,
   "metadata": {
    "collapsed": true
   },
   "outputs": [],
   "source": [
    "content_list = []\n",
    "label_list = []\n",
    "for fileName in fileName_list:\n",
    "    filePath = os.path.join(folder_path, fileName)\n",
    "    with open(filePath, encoding='utf8') as file:\n",
    "        line_list = [k.strip() for k in file.readlines()][:-1]\n",
    "        for line in line_list:\n",
    "            content_list.append(line.split(',', maxsplit=1)[1])\n",
    "            label_list.append(fileName.strip('.csv').strip('/data'))"
   ]
  },
  {
   "cell_type": "code",
   "execution_count": 9,
   "metadata": {},
   "outputs": [
    {
     "data": {
      "text/plain": [
       "1712"
      ]
     },
     "execution_count": 9,
     "metadata": {},
     "output_type": "execute_result"
    }
   ],
   "source": [
    "len(content_list)"
   ]
  },
  {
   "cell_type": "code",
   "execution_count": 10,
   "metadata": {},
   "outputs": [
    {
     "data": {
      "text/plain": [
       "1712"
      ]
     },
     "execution_count": 10,
     "metadata": {},
     "output_type": "execute_result"
    }
   ],
   "source": [
    "len(label_list)"
   ]
  },
  {
   "cell_type": "code",
   "execution_count": 11,
   "metadata": {
    "collapsed": true
   },
   "outputs": [],
   "source": [
    "from sklearn.model_selection import train_test_split\n",
    "\n",
    "train_X, test_X, train_y, test_y = train_test_split(content_list, label_list)"
   ]
  },
  {
   "cell_type": "code",
   "execution_count": 12,
   "metadata": {},
   "outputs": [
    {
     "data": {
      "text/plain": [
       "1284"
      ]
     },
     "execution_count": 12,
     "metadata": {},
     "output_type": "execute_result"
    }
   ],
   "source": [
    "len(train_X)"
   ]
  },
  {
   "cell_type": "code",
   "execution_count": 13,
   "metadata": {},
   "outputs": [
    {
     "data": {
      "text/plain": [
       "428"
      ]
     },
     "execution_count": 13,
     "metadata": {},
     "output_type": "execute_result"
    }
   ],
   "source": [
    "len(test_X)"
   ]
  },
  {
   "cell_type": "code",
   "execution_count": 14,
   "metadata": {
    "collapsed": true
   },
   "outputs": [],
   "source": [
    "import pickle\n",
    "\n",
    "with open('train_content_list.pickle', 'wb') as file:\n",
    "    pickle.dump(train_X, file)\n",
    "    \n",
    "with open('train_label_list.pickle', 'wb') as file:\n",
    "    pickle.dump(train_y, file)\n",
    "\n",
    "with open('test_content_list.pickle', 'wb') as file:\n",
    "    pickle.dump(test_X, file)\n",
    "    \n",
    "with open('test_label_list.pickle', 'wb') as file:\n",
    "    pickle.dump(test_y, file)"
   ]
  },
  {
   "cell_type": "code",
   "execution_count": null,
   "metadata": {
    "collapsed": true
   },
   "outputs": [],
   "source": []
  }
 ],
 "metadata": {
  "kernelspec": {
   "display_name": "Python 3",
   "language": "python",
   "name": "python3"
  },
  "language_info": {
   "codemirror_mode": {
    "name": "ipython",
    "version": 3
   },
   "file_extension": ".py",
   "mimetype": "text/x-python",
   "name": "python",
   "nbconvert_exporter": "python",
   "pygments_lexer": "ipython3",
   "version": "3.6.1"
  }
 },
 "nbformat": 4,
 "nbformat_minor": 2
}
